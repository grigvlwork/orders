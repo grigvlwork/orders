{
 "cells": [
  {
   "cell_type": "markdown",
   "metadata": {
    "pycharm": {
     "name": "#%% md\n"
    }
   },
   "source": [
    "# Central Bank of Russia exchange rates "
   ]
  },
  {
   "cell_type": "code",
   "execution_count": 1,
   "metadata": {
    "pycharm": {
     "name": "#%%\n"
    }
   },
   "outputs": [],
   "source": [
    "API_BASE_URL = \"https://www.cbr.ru/scripts/\"\n",
    "API_URL_FOR_DATE = API_BASE_URL + \"XML_daily.asp\"\n",
    "API_URL_FOR_DATE_ENG = API_BASE_URL + \"XML_daily_eng.asp\"\n",
    "API_URL_FOR_DATE_RANGE = API_BASE_URL + \"XML_dynamic.asp\"\n",
    "API_URL_CURRENCY_CODES = API_BASE_URL + \"XML_valFull.asp\"\n",
    "API_XML_ELEMENT_TAG_ISO_CURRENCY_CODE= \"ISO_Char_Code\"\n",
    "API_REQUEST_CURRENCY_CODE = \"VAL_NM_RQ\"\n",
    "API_REQUEST_SINGLE_DATE = \"date_req\"\n",
    "API_REQUEST_DATE_RANGE_BEGIN = \"date_req1\" \n",
    "API_REQUEST_DATE_RANGE_END = \"date_req2\""
   ]
  },
  {
   "cell_type": "code",
   "execution_count": 2,
   "metadata": {
    "pycharm": {
     "name": "#%%\n"
    }
   },
   "outputs": [],
   "source": [
    "import requests, datetime\n",
    "import xml.etree.ElementTree as ET"
   ]
  },
  {
   "cell_type": "code",
   "execution_count": 3,
   "metadata": {
    "pycharm": {
     "name": "#%%\n"
    }
   },
   "outputs": [],
   "source": [
    "class Currency:\n",
    "    def __init__(self, isoCurrencyCode):\n",
    "        self.code = isoCurrencyCode.upper()\n",
    "        try:\n",
    "            code = APICurrencyCodeValidatorAndFetcher(self.code).fetch_api_code()\n",
    "            self.fetcher = ExchangeRateFetcher(code)\n",
    "        except:\n",
    "            raise ValueError(\"Provided currency code is unknown to CBR API. Can not proceed.\")\n",
    "            \n",
    "    def rate_at_date(self, date: str):\n",
    "        return self.fetcher.fetch_rate_for_date(date)\n",
    "    \n",
    "    def rate_at_date_range(self, start_date: str, end_date: str):\n",
    "        return self.fetcher.fetch_rate_for_range_of_dates(start_date, end_date)"
   ]
  },
  {
   "cell_type": "code",
   "execution_count": 4,
   "metadata": {
    "pycharm": {
     "name": "#%%\n"
    }
   },
   "outputs": [],
   "source": [
    "class APICurrencyCodeValidatorAndFetcher:\n",
    "    def __init__(self, isoCurrencyCode: str):\n",
    "        self.iso_currency_code = isoCurrencyCode.upper()\n",
    "        \n",
    "    def fetch_api_code(self) -> str:\n",
    "        response = requests.get(API_URL_CURRENCY_CODES)\n",
    "        if response.status_code != requests.codes.ok:\n",
    "            raise Exception(\"Could not connect to cbr.ru and fetch data.\")\n",
    "        xml_currency_codes = ET.fromstring(response.text)\n",
    "        for code in xml_currency_codes:\n",
    "            if code.find(API_XML_ELEMENT_TAG_ISO_CURRENCY_CODE).text == self.iso_currency_code:\n",
    "                return code.attrib[\"ID\"]\n",
    "        raise ValueError(\"Provided currency code is invalid or not supported by CBR API\")\n",
    "                 "
   ]
  },
  {
   "cell_type": "code",
   "execution_count": 5,
   "metadata": {
    "pycharm": {
     "name": "#%%\n"
    }
   },
   "outputs": [],
   "source": [
    "class ExchangeRateFetcher:\n",
    "    '''\n",
    "    ExchangeRateFetcher must be initialized with correct CBR API currency code to work properly.\n",
    "    '''\n",
    "    def __init__(self, api_currency_code: str):\n",
    "        self.api_currency_code = api_currency_code\n",
    "        \n",
    "    def fetch_rate_for_date(self, date) -> float:\n",
    "        '''\n",
    "        Accepts date in form \"dd/mm/yyyy\" and returns exchange rate (RUB/currency)\n",
    "        at the specified date\n",
    "        '''\n",
    "        params = {API_REQUEST_SINGLE_DATE: ApiDatesConverter(date).to_string(), \n",
    "                  API_REQUEST_CURRENCY_CODE: self.api_currency_code}\n",
    "        xml_body = self.execute_request_and_return_xml(API_URL_FOR_DATE, params)\n",
    "        for item in xml_body:\n",
    "            '''\n",
    "            CBR API does not honor currency code in request (although it is described in the docs)\n",
    "            and returns all currencies rates at requested date. Thus we need to go thtough returned\n",
    "            xml elements one by one to find the needed element...\n",
    "            '''\n",
    "            if item.attrib[\"ID\"] == self.api_currency_code:\n",
    "                return float(item.find(\"Value\").text.replace(\",\", \".\"))\n",
    "            \n",
    "    def fetch_rate_for_range_of_dates(self, start_date: str, end_date: str) -> dict:\n",
    "        '''\n",
    "        Accepts two dates in form \"dd/mm/yyyy\" and returns dictionary {datetime.datetime: float}\n",
    "        of exchange rates (RUB/currency) at relevant dates. The specified dates are both included\n",
    "        in the output.        \n",
    "        '''\n",
    "        params = {API_REQUEST_DATE_RANGE_BEGIN: ApiDatesConverter(start_date).to_string(),\n",
    "                  API_REQUEST_DATE_RANGE_END: ApiDatesConverter(end_date).to_string(),\n",
    "                  API_REQUEST_CURRENCY_CODE: self.api_currency_code}\n",
    "        xml_body = self.execute_request_and_return_xml(API_URL_FOR_DATE_RANGE, params)\n",
    "        dates = [self.api_response_to_datetime(item.attrib[\"Date\"]) for item in xml_body]\n",
    "        values = [float(item.find(\"Value\").text.replace(\",\", \".\")) for item in xml_body]\n",
    "        return dict(zip(dates, values))\n",
    "    \n",
    "    def api_response_to_datetime(self, datestr: str) -> datetime.datetime:\n",
    "        d, m, y = (int(n) for n in datestr.split(\".\"))\n",
    "        return datetime.datetime(y, m, d)\n",
    "    \n",
    "    def execute_request_and_return_xml(self, url: str, params: dict):\n",
    "        response = requests.get(url, params)\n",
    "        if response.status_code != requests.codes.ok:\n",
    "            raise Exception(\"Could not connect to cbr.ru and fetch data.\")\n",
    "        return ET.fromstring(response.text)"
   ]
  },
  {
   "cell_type": "code",
   "execution_count": 6,
   "metadata": {
    "pycharm": {
     "name": "#%%\n"
    }
   },
   "outputs": [],
   "source": [
    "class ApiDatesConverter:\n",
    "    def __init__(self, date):\n",
    "        if isinstance(date, str):\n",
    "            self.datestr = date\n",
    "            self.str_to_datetime()\n",
    "            self.datetime_to_str()\n",
    "        elif isinstance(date, datetime.datetime):\n",
    "            self.datetime = date\n",
    "            self.datetime_to_str()\n",
    "        else:\n",
    "            raise ValueError(\"argument 'date' must be either string or datetime.datetime object\")\n",
    "\n",
    "    def to_string(self):\n",
    "        return self.datestr\n",
    "    \n",
    "    def to_datetime(self):\n",
    "        return self.datetime\n",
    "   \n",
    "    def datetime_to_str(self):\n",
    "        self.datestr = self.datetime.strftime(\"%d/%m/%Y\")\n",
    "                \n",
    "    def str_to_datetime(self):\n",
    "        try:\n",
    "            date = datetime.datetime.strptime(self.datestr, \"%d/%m/%Y\")\n",
    "        except ValueError:\n",
    "            raise ValueError(\"Can only accept date as string in form '%d/%m/%Y', e.g. '01/09/2020'\")\n",
    "        self.datetime = date\n",
    "        \n",
    "    "
   ]
  },
  {
   "cell_type": "markdown",
   "metadata": {
    "pycharm": {
     "name": "#%% md\n"
    }
   },
   "source": [
    "## Sample use case"
   ]
  },
  {
   "cell_type": "code",
   "execution_count": 7,
   "metadata": {
    "pycharm": {
     "name": "#%%\n"
    }
   },
   "outputs": [
    {
     "name": "stdout",
     "output_type": "stream",
     "text": [
      "Type of return value for rate_at_date_range method is: <class 'dict'>\n",
      "where keys are <class 'type'> and values are <class 'float'>\n",
      "\n",
      "2020-09-01 00:00:00 73.8039\n",
      "2020-09-02 00:00:00 73.5849\n",
      "2020-09-03 00:00:00 73.8588\n",
      "2020-09-04 00:00:00 75.468\n",
      "2020-09-05 00:00:00 75.1823\n",
      "2020-09-08 00:00:00 75.591\n",
      "2020-09-09 00:00:00 75.9645\n",
      "2020-09-10 00:00:00 76.0713\n"
     ]
    }
   ],
   "source": [
    "usd = Currency(\"usd\")\n",
    "\n",
    "startdate = \"1/9/2020\"\n",
    "enddate = \"10/09/2020\"\n",
    "\n",
    "september_data = usd.rate_at_date_range(startdate, enddate)\n",
    "\n",
    "print(f'''Type of return value for rate_at_date_range method is: {type(september_data)}\n",
    "where keys are {type(datetime.datetime)} \\\n",
    "and values are {type(september_data[datetime.datetime(2020, 9, 1)])}\n",
    "''')\n",
    "\n",
    "for k,v in september_data.items():\n",
    "    print(k, v)\n"
   ]
  },
  {
   "cell_type": "code",
   "execution_count": 8,
   "metadata": {
    "pycharm": {
     "name": "#%%\n"
    }
   },
   "outputs": [
    {
     "name": "stdout",
     "output_type": "stream",
     "text": [
      "USD was 61.9057 on 01/01/2020\n",
      "And now it is 76.0713\n"
     ]
    }
   ],
   "source": [
    "print(f\"USD was {usd.rate_at_date('01/01/2020')} on 01/01/2020\")\n",
    "print(f\"And now it is {usd.rate_at_date(datetime.datetime.now())}\")"
   ]
  },
  {
   "cell_type": "markdown",
   "metadata": {
    "pycharm": {
     "name": "#%% md\n"
    }
   },
   "source": [
    "## More useful example: filling Pandas Series "
   ]
  },
  {
   "cell_type": "markdown",
   "metadata": {
    "pycharm": {
     "name": "#%% md\n"
    }
   },
   "source": [
    "WARNING! CBR API does not return values for dates when the exchange rate has not been explicitly set (holidays etc.) which means that you will finish with incomplete set with some dates missing if you use *rate_at_date_range* method. This however may be easily fixed with pandas.\n",
    "\n",
    "\n",
    "Note the gap between 29/08/2020 and 01/09/2020 in the example!"
   ]
  },
  {
   "cell_type": "code",
   "execution_count": 9,
   "metadata": {
    "pycharm": {
     "name": "#%%\n"
    }
   },
   "outputs": [
    {
     "name": "stdout",
     "output_type": "stream",
     "text": [
      "2020-08-27    75.5379\n",
      "2020-08-28    75.2354\n",
      "2020-08-29    74.6382\n",
      "2020-09-01    73.8039\n",
      "2020-09-02    73.5849\n",
      "2020-09-03    73.8588\n",
      "2020-09-04    75.4680\n",
      "2020-09-05    75.1823\n",
      "2020-09-08    75.5910\n",
      "2020-09-09    75.9645\n",
      "2020-09-10    76.0713\n",
      "Name: USD, dtype: float64\n"
     ]
    }
   ],
   "source": [
    "import pandas as pd\n",
    "\n",
    "usd = Currency(\"usd\")\n",
    "\n",
    "startdate = \"27/8/2020\"\n",
    "enddate = datetime.datetime.now()\n",
    "\n",
    "usd_2020 = pd.Series(usd.rate_at_date_range(startdate, datetime.datetime.now()), name=usd.code)\n",
    "print(usd_2020)"
   ]
  },
  {
   "cell_type": "markdown",
   "metadata": {
    "pycharm": {
     "name": "#%% md\n"
    }
   },
   "source": [
    "## Or we can join several currencies into Pandas DataFrame"
   ]
  },
  {
   "cell_type": "code",
   "execution_count": 11,
   "metadata": {
    "pycharm": {
     "name": "#%%\n"
    }
   },
   "outputs": [
    {
     "data": {
      "text/html": [
       "<div>\n",
       "<style scoped>\n",
       "    .dataframe tbody tr th:only-of-type {\n",
       "        vertical-align: middle;\n",
       "    }\n",
       "\n",
       "    .dataframe tbody tr th {\n",
       "        vertical-align: top;\n",
       "    }\n",
       "\n",
       "    .dataframe thead th {\n",
       "        text-align: right;\n",
       "    }\n",
       "</style>\n",
       "<table border=\"1\" class=\"dataframe\">\n",
       "  <thead>\n",
       "    <tr style=\"text-align: right;\">\n",
       "      <th></th>\n",
       "      <th>USD</th>\n",
       "      <th>EUR</th>\n",
       "      <th>GBP</th>\n",
       "    </tr>\n",
       "  </thead>\n",
       "  <tbody>\n",
       "    <tr>\n",
       "      <th>2020-08-28</th>\n",
       "      <td>75.2354</td>\n",
       "      <td>88.9960</td>\n",
       "      <td>99.4236</td>\n",
       "    </tr>\n",
       "    <tr>\n",
       "      <th>2020-08-29</th>\n",
       "      <td>74.6382</td>\n",
       "      <td>88.7448</td>\n",
       "      <td>99.0971</td>\n",
       "    </tr>\n",
       "    <tr>\n",
       "      <th>2020-09-01</th>\n",
       "      <td>73.8039</td>\n",
       "      <td>87.8266</td>\n",
       "      <td>98.1813</td>\n",
       "    </tr>\n",
       "    <tr>\n",
       "      <th>2020-09-02</th>\n",
       "      <td>73.5849</td>\n",
       "      <td>88.1547</td>\n",
       "      <td>98.8098</td>\n",
       "    </tr>\n",
       "    <tr>\n",
       "      <th>2020-09-03</th>\n",
       "      <td>73.8588</td>\n",
       "      <td>87.7369</td>\n",
       "      <td>98.5793</td>\n",
       "    </tr>\n",
       "    <tr>\n",
       "      <th>2020-09-04</th>\n",
       "      <td>75.4680</td>\n",
       "      <td>89.1353</td>\n",
       "      <td>100.3347</td>\n",
       "    </tr>\n",
       "    <tr>\n",
       "      <th>2020-09-05</th>\n",
       "      <td>75.1823</td>\n",
       "      <td>89.0384</td>\n",
       "      <td>99.9398</td>\n",
       "    </tr>\n",
       "    <tr>\n",
       "      <th>2020-09-08</th>\n",
       "      <td>75.5910</td>\n",
       "      <td>89.4771</td>\n",
       "      <td>99.9615</td>\n",
       "    </tr>\n",
       "    <tr>\n",
       "      <th>2020-09-09</th>\n",
       "      <td>75.9645</td>\n",
       "      <td>89.7369</td>\n",
       "      <td>99.7034</td>\n",
       "    </tr>\n",
       "    <tr>\n",
       "      <th>2020-09-10</th>\n",
       "      <td>76.0713</td>\n",
       "      <td>89.5663</td>\n",
       "      <td>98.5504</td>\n",
       "    </tr>\n",
       "  </tbody>\n",
       "</table>\n",
       "</div>"
      ],
      "text/plain": [
       "                USD      EUR       GBP\n",
       "2020-08-28  75.2354  88.9960   99.4236\n",
       "2020-08-29  74.6382  88.7448   99.0971\n",
       "2020-09-01  73.8039  87.8266   98.1813\n",
       "2020-09-02  73.5849  88.1547   98.8098\n",
       "2020-09-03  73.8588  87.7369   98.5793\n",
       "2020-09-04  75.4680  89.1353  100.3347\n",
       "2020-09-05  75.1823  89.0384   99.9398\n",
       "2020-09-08  75.5910  89.4771   99.9615\n",
       "2020-09-09  75.9645  89.7369   99.7034\n",
       "2020-09-10  76.0713  89.5663   98.5504"
      ]
     },
     "execution_count": 11,
     "metadata": {},
     "output_type": "execute_result"
    },
    {
     "data": {
      "image/png": "[encoded data removed]",
      "text/plain": [
       "<Figure size 432x288 with 1 Axes>"
      ]
     },
     "metadata": {
      "needs_background": "light"
     },
     "output_type": "display_data"
    }
   ],
   "source": [
    "startdate = \"1/1/2020\"\n",
    "enddate = datetime.datetime.now()\n",
    "\n",
    "usd = Currency(\"usd\")\n",
    "gbp = Currency(\"GBP\")\n",
    "eur = Currency(\"eur\")\n",
    "\n",
    "usd_2020 = pd.Series(usd.rate_at_date_range(startdate, datetime.datetime.now()), name=usd.code)\n",
    "eur_2020 = pd.Series(eur.rate_at_date_range(startdate, datetime.datetime.now()), name=eur.code)\n",
    "gbp_2020 = pd.Series(gbp.rate_at_date_range(startdate, datetime.datetime.now()), name=gbp.code)\n",
    "\n",
    "df = pd.concat([usd_2020, eur_2020, gbp_2020], axis=1)\n",
    "df.plot(legend=True, grid=True)\n",
    "df.tail(10)"
   ]
  }
 ],
 "metadata": {
  "kernelspec": {
   "display_name": "Python 3",
   "language": "python",
   "name": "python3"
  },
  "language_info": {
   "codemirror_mode": {
    "name": "ipython",
    "version": 3
   },
   "file_extension": ".py",
   "mimetype": "text/x-python",
   "name": "python",
   "nbconvert_exporter": "python",
   "pygments_lexer": "ipython3",
   "version": "3.7.3"
  }
 },
 "nbformat": 4,
 "nbformat_minor": 4
}